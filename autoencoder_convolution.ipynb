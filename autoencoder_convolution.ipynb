{
 "cells": [
  {
   "cell_type": "code",
   "execution_count": 1,
   "metadata": {
    "collapsed": true
   },
   "outputs": [],
   "source": [
    "import numpy as np\n",
    "import torch\n",
    "from torchvision import datasets\n",
    "from torchvision import transforms\n",
    "import matplotlib.pyplot as plt\n",
    "from torchsummary import summary"
   ]
  },
  {
   "cell_type": "code",
   "execution_count": 2,
   "outputs": [],
   "source": [
    "transform = transforms.ToTensor()\n",
    "train_dataset = datasets.FashionMNIST(root=\"./data\", train=True, transform=transform, download=True)\n",
    "train_dataset, validation_dataset = torch.utils.data.random_split(train_dataset, [50000, 10000])\n",
    "train_loader = torch.utils.data.DataLoader(train_dataset, batch_size=128, shuffle=True)\n",
    "validation_loader = torch.utils.data.DataLoader(validation_dataset, batch_size=16384, shuffle=True)\n",
    "\n",
    "test_dataset = datasets.FashionMNIST(root=\"./data\", train=False, transform=transform, download=True)"
   ],
   "metadata": {
    "collapsed": false
   }
  },
  {
   "cell_type": "code",
   "execution_count": 3,
   "outputs": [
    {
     "name": "stdout",
     "output_type": "stream",
     "text": [
      "50000\n",
      "10000\n",
      "10000\n"
     ]
    }
   ],
   "source": [
    "print(len(train_dataset))\n",
    "print(len(validation_dataset))\n",
    "print(len(test_dataset))"
   ],
   "metadata": {
    "collapsed": false
   }
  },
  {
   "cell_type": "code",
   "execution_count": 4,
   "outputs": [],
   "source": [
    "class AE(torch.nn.Module):\n",
    "    def __init__(self):\n",
    "        super().__init__()\n",
    "        self.encoder = torch.nn.Sequential(\n",
    "\t\t\ttorch.nn.Conv2d(in_channels=1, out_channels=16, kernel_size=3, padding=1),\n",
    "\t\t\ttorch.nn.ReLU(),\n",
    "\t\t\ttorch.nn.MaxPool2d(kernel_size=2),\n",
    "\t\t\ttorch.nn.Conv2d(in_channels=16, out_channels=32, kernel_size=3, padding=1),\n",
    "\t\t\ttorch.nn.ReLU(),\n",
    "\t\t\ttorch.nn.MaxPool2d(kernel_size=2),\n",
    "\t\t\ttorch.nn.Conv2d(in_channels=32, out_channels=64, kernel_size=3, padding=1),\n",
    "\t\t\ttorch.nn.ReLU(),\n",
    "\t\t\ttorch.nn.MaxPool2d(kernel_size=2)\n",
    "\t\t)\n",
    "\n",
    "        self.decoder = torch.nn.Sequential(\n",
    "\t\t\ttorch.nn.ConvTranspose2d(in_channels=64, out_channels=32, kernel_size=3, stride=2),\n",
    "\t\t\ttorch.nn.ReLU(),\n",
    "\t\t\ttorch.nn.ConvTranspose2d(in_channels=32, out_channels=16, kernel_size=2, stride=2),\n",
    "\t\t\ttorch.nn.ReLU(),\n",
    "\t\t\ttorch.nn.ConvTranspose2d(in_channels=16, out_channels=1, kernel_size=2, stride=2),\n",
    "\t\t\ttorch.nn.ReLU()\n",
    "\t\t)\n",
    "\n",
    "    def forward(self, x):\n",
    "        encoded = self.encoder(x)\n",
    "        decoded = self.decoder(encoded)\n",
    "        return decoded"
   ],
   "metadata": {
    "collapsed": false
   }
  },
  {
   "cell_type": "code",
   "execution_count": 5,
   "outputs": [],
   "source": [
    "# ovo sam koristio kako bih nastimao dobre dimenzije izlaza\n",
    "# rekonstruirana slika treba biti istih dimenzija kao i ulaz, pa sam trebao namjestiti dobar kernel_size, padding, stride...\n",
    "# zakomentirao sam tu liniju koda jer sam imao problema kasnije problema sa treniranjem ako bi se ova linija koda prvo izvrsila\n",
    "# model = AE().to('cuda')\n",
    "# summary(model, (1, 28, 28))"
   ],
   "metadata": {
    "collapsed": false
   }
  },
  {
   "cell_type": "code",
   "execution_count": 6,
   "outputs": [],
   "source": [
    "def calculate_validation_loss(model, loss_function, device):\n",
    "\tvalidation_loss = 0\n",
    "\tfor validation_images, _ in validation_loader:\n",
    "\t\tvalidation_images = validation_images.to(device)\n",
    "\t\tvalidation_outputs = model(validation_images)\n",
    "\t\tvalidation_loss += loss_function(validation_outputs, validation_images).item()\n",
    "\tvalidation_loss /= len(validation_loader)\n",
    "\treturn validation_loss"
   ],
   "metadata": {
    "collapsed": false
   }
  },
  {
   "cell_type": "code",
   "execution_count": 7,
   "outputs": [],
   "source": [
    "def train_model(number_of_epochs):\n",
    "\tdevice = torch.device(\"cuda\")\n",
    "\tmodel = AE().to(device)\n",
    "\toptimizer = torch.optim.Adam(model.parameters(), lr=1e-3)\n",
    "\tloss_function = torch.nn.MSELoss()\n",
    "\n",
    "\ttrain_losses = []\n",
    "\tvalidation_losses = []\n",
    "\tfor epoch in range(number_of_epochs):\n",
    "\t\ttrain_loss = 0\n",
    "\t\tfor batch_features, _ in train_loader:\n",
    "\t\t\tbatch_features = batch_features.to(device)\n",
    "\t\t\toptimizer.zero_grad()\n",
    "\n",
    "\t\t\toutputs = model(batch_features)\n",
    "\t\t\tbatch_train_loss = loss_function(outputs, batch_features)\n",
    "\t\t\tbatch_train_loss.backward()\n",
    "\t\t\toptimizer.step()\n",
    "\n",
    "\t\t\ttrain_loss += batch_train_loss.item()\n",
    "\n",
    "\t\ttrain_loss = train_loss / len(train_loader)\n",
    "\t\tprint(f\"epoch : {epoch + 1}/{number_of_epochs}, loss = {train_loss}\")\n",
    "\t\ttrain_losses.append(train_loss)\n",
    "\n",
    "\t\tvalidation_loss = calculate_validation_loss(model, loss_function, device)\n",
    "\t\tvalidation_losses.append(validation_loss)\n",
    "\n",
    "\treturn model, train_losses, validation_losses"
   ],
   "metadata": {
    "collapsed": false
   }
  },
  {
   "cell_type": "code",
   "execution_count": 8,
   "outputs": [
    {
     "name": "stdout",
     "output_type": "stream",
     "text": [
      "epoch : 1/100, loss = 0.031080912867718188\n",
      "epoch : 2/100, loss = 0.013651796511810302\n",
      "epoch : 3/100, loss = 0.011467573773639892\n",
      "epoch : 4/100, loss = 0.010278438279867325\n",
      "epoch : 5/100, loss = 0.009476391031690266\n",
      "epoch : 6/100, loss = 0.008945570658425541\n",
      "epoch : 7/100, loss = 0.008481415363786089\n",
      "epoch : 8/100, loss = 0.008121713667231448\n",
      "epoch : 9/100, loss = 0.007813093017862961\n",
      "epoch : 10/100, loss = 0.007544891745604746\n",
      "epoch : 11/100, loss = 0.007315315551522291\n",
      "epoch : 12/100, loss = 0.00710965909630708\n",
      "epoch : 13/100, loss = 0.006936008756137107\n",
      "epoch : 14/100, loss = 0.006797035428388116\n",
      "epoch : 15/100, loss = 0.006653303145895452\n",
      "epoch : 16/100, loss = 0.00652390598174175\n",
      "epoch : 17/100, loss = 0.00642429297442174\n",
      "epoch : 18/100, loss = 0.006311040917111327\n",
      "epoch : 19/100, loss = 0.006214863833878427\n",
      "epoch : 20/100, loss = 0.006143303305777671\n",
      "epoch : 21/100, loss = 0.006048334893458487\n",
      "epoch : 22/100, loss = 0.005981653816807453\n",
      "epoch : 23/100, loss = 0.005905551392861339\n",
      "epoch : 24/100, loss = 0.0058370636873747534\n",
      "epoch : 25/100, loss = 0.0057783669951702935\n",
      "epoch : 26/100, loss = 0.005724267512464615\n",
      "epoch : 27/100, loss = 0.005672194432857854\n",
      "epoch : 28/100, loss = 0.005620280373603334\n",
      "epoch : 29/100, loss = 0.0055852647730246984\n",
      "epoch : 30/100, loss = 0.005523708744255631\n",
      "epoch : 31/100, loss = 0.005485669955077684\n",
      "epoch : 32/100, loss = 0.005443441284977642\n",
      "epoch : 33/100, loss = 0.005413330998509894\n",
      "epoch : 34/100, loss = 0.005374839384099254\n",
      "epoch : 35/100, loss = 0.005338322127099766\n",
      "epoch : 36/100, loss = 0.005313238999603883\n",
      "epoch : 37/100, loss = 0.0052739791155261605\n",
      "epoch : 38/100, loss = 0.005241391460990052\n",
      "epoch : 39/100, loss = 0.005215828586846133\n",
      "epoch : 40/100, loss = 0.0051944073030005785\n",
      "epoch : 41/100, loss = 0.00515298394229063\n",
      "epoch : 42/100, loss = 0.005140202760677356\n",
      "epoch : 43/100, loss = 0.005112099329062054\n",
      "epoch : 44/100, loss = 0.005100900758667599\n",
      "epoch : 45/100, loss = 0.005058942978387065\n",
      "epoch : 46/100, loss = 0.00505082092612334\n",
      "epoch : 47/100, loss = 0.005010103080374048\n",
      "epoch : 48/100, loss = 0.0050113737366407575\n",
      "epoch : 49/100, loss = 0.004978038150283611\n",
      "epoch : 50/100, loss = 0.0049625771927654435\n",
      "epoch : 51/100, loss = 0.004937305273559621\n",
      "epoch : 52/100, loss = 0.004932711223650086\n",
      "epoch : 53/100, loss = 0.00490615214161632\n",
      "epoch : 54/100, loss = 0.0048937826808018\n",
      "epoch : 55/100, loss = 0.004862644519690243\n",
      "epoch : 56/100, loss = 0.004852550513947102\n",
      "epoch : 57/100, loss = 0.0048513423235815424\n",
      "epoch : 58/100, loss = 0.004826918623083845\n",
      "epoch : 59/100, loss = 0.004806943180615944\n",
      "epoch : 60/100, loss = 0.00478592149251143\n",
      "epoch : 61/100, loss = 0.004784135643364219\n",
      "epoch : 62/100, loss = 0.004761676479111928\n",
      "epoch : 63/100, loss = 0.004751868949740973\n",
      "epoch : 64/100, loss = 0.004736662931059061\n",
      "epoch : 65/100, loss = 0.004719123233567038\n",
      "epoch : 66/100, loss = 0.004717856876032851\n",
      "epoch : 67/100, loss = 0.0046938859477705895\n",
      "epoch : 68/100, loss = 0.004685797751821635\n",
      "epoch : 69/100, loss = 0.004672576459553426\n",
      "epoch : 70/100, loss = 0.004661204890035988\n",
      "epoch : 71/100, loss = 0.0046567567493147255\n",
      "epoch : 72/100, loss = 0.004644832958507797\n",
      "epoch : 73/100, loss = 0.0046203978755094514\n",
      "epoch : 74/100, loss = 0.004618955539096423\n",
      "epoch : 75/100, loss = 0.004607894565062145\n",
      "epoch : 76/100, loss = 0.004589208139135214\n",
      "epoch : 77/100, loss = 0.004574212043181709\n",
      "epoch : 78/100, loss = 0.004585158820633236\n",
      "epoch : 79/100, loss = 0.0045695440918731185\n",
      "epoch : 80/100, loss = 0.004560583006099934\n",
      "epoch : 81/100, loss = 0.004534745560911343\n",
      "epoch : 82/100, loss = 0.004530768897479681\n",
      "epoch : 83/100, loss = 0.00453143528140986\n",
      "epoch : 84/100, loss = 0.004521860776211866\n",
      "epoch : 85/100, loss = 0.004501128170277228\n",
      "epoch : 86/100, loss = 0.0044981581706772834\n",
      "epoch : 87/100, loss = 0.004492885174105883\n",
      "epoch : 88/100, loss = 0.004486052965497612\n",
      "epoch : 89/100, loss = 0.004474472200326488\n",
      "epoch : 90/100, loss = 0.004465443426338227\n",
      "epoch : 91/100, loss = 0.004463560751798894\n",
      "epoch : 92/100, loss = 0.0044491334033467805\n",
      "epoch : 93/100, loss = 0.00443396782454894\n",
      "epoch : 94/100, loss = 0.004426393366140096\n",
      "epoch : 95/100, loss = 0.0044224887277664205\n",
      "epoch : 96/100, loss = 0.00442029609430648\n",
      "epoch : 97/100, loss = 0.004414756050514405\n",
      "epoch : 98/100, loss = 0.00440665660723758\n",
      "epoch : 99/100, loss = 0.0044025514445141375\n",
      "epoch : 100/100, loss = 0.004388113530552791\n"
     ]
    }
   ],
   "source": [
    "train_epochs_n = 100\n",
    "model, train_losses, validation_losses = train_model(train_epochs_n)"
   ],
   "metadata": {
    "collapsed": false
   }
  },
  {
   "cell_type": "code",
   "execution_count": 9,
   "outputs": [
    {
     "data": {
      "text/plain": "<Figure size 640x480 with 1 Axes>",
      "image/png": "[encoded data removed]"
     },
     "metadata": {},
     "output_type": "display_data"
    }
   ],
   "source": [
    "plt.plot(train_losses, 'b', label=\"train loss\")\n",
    "plt.plot(validation_losses, 'r', label=\"validation loss\")\n",
    "plt.legend(loc=\"best\")\n",
    "plt.show()"
   ],
   "metadata": {
    "collapsed": false
   }
  },
  {
   "cell_type": "code",
   "execution_count": 10,
   "outputs": [
    {
     "data": {
      "text/plain": "96"
     },
     "execution_count": 10,
     "metadata": {},
     "output_type": "execute_result"
    }
   ],
   "source": [
    "# nema overfitta\n",
    "np.argmin(validation_losses)"
   ],
   "metadata": {
    "collapsed": false
   }
  },
  {
   "cell_type": "code",
   "execution_count": 25,
   "outputs": [],
   "source": [
    "model = model.to('cpu')\n",
    "test_loader_preview = torch.utils.data.DataLoader(test_dataset, batch_size=6, shuffle=True)\n",
    "preview_iterator = iter(test_loader_preview)"
   ],
   "metadata": {
    "collapsed": false
   }
  },
  {
   "cell_type": "code",
   "execution_count": 27,
   "outputs": [
    {
     "data": {
      "text/plain": "<Figure size 1300x700 with 6 Axes>",
      "image/png": "[encoded data removed]"
     },
     "metadata": {},
     "output_type": "display_data"
    },
    {
     "data": {
      "text/plain": "<Figure size 1300x700 with 6 Axes>",
      "image/png": "[encoded data removed]"
     },
     "metadata": {},
     "output_type": "display_data"
    }
   ],
   "source": [
    "inputs, classes = next(preview_iterator)\n",
    "\n",
    "def display_image(image, index):\n",
    "\tplt.subplot(1, 6, index)\n",
    "\tplt.axis('off')\n",
    "\tplt.imshow(1 - image, cmap='gray')\n",
    "\n",
    "plt.figure(figsize=(13, 7))\n",
    "for i, image in enumerate(inputs):\n",
    "\tdisplay_image(image[0], i+1)\n",
    "plt.show()\n",
    "\n",
    "plt.figure(figsize=(13, 7))\n",
    "for i, image in enumerate(inputs):\n",
    "\toutputs = model(image)\n",
    "\toutputs = outputs.view(28, 28).detach().numpy()\n",
    "\tdisplay_image(outputs, i+1)\n",
    "plt.show()"
   ],
   "metadata": {
    "collapsed": false
   }
  },
  {
   "cell_type": "code",
   "execution_count": null,
   "outputs": [],
   "source": [],
   "metadata": {
    "collapsed": false
   }
  }
 ],
 "metadata": {
  "kernelspec": {
   "display_name": "Python 3",
   "language": "python",
   "name": "python3"
  },
  "language_info": {
   "codemirror_mode": {
    "name": "ipython",
    "version": 2
   },
   "file_extension": ".py",
   "mimetype": "text/x-python",
   "name": "python",
   "nbconvert_exporter": "python",
   "pygments_lexer": "ipython2",
   "version": "2.7.6"
  }
 },
 "nbformat": 4,
 "nbformat_minor": 0
}
